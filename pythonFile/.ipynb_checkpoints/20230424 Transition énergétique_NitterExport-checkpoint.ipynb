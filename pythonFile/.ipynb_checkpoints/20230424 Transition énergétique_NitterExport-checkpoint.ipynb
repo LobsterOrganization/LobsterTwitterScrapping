{
 "cells": [
  {
   "cell_type": "markdown",
   "metadata": {},
   "source": [
    "## Initializing of XLS FILE INTO DATAFRAME FORMAT"
   ]
  },
  {
   "cell_type": "code",
   "execution_count": null,
   "metadata": {},
   "outputs": [],
   "source": [
    "import pandas as pd\n",
    "\n",
    "df = pd.read_excel('PPD_Transition_Energetique_Scrapping.xlsx')\n",
    "\n",
    "df"
   ]
  },
  {
   "cell_type": "markdown",
   "metadata": {},
   "source": [
    "## CLEANING - EXTRA SPACES, PUNCTUATIONS, TABULATION"
   ]
  },
  {
   "cell_type": "code",
   "execution_count": null,
   "metadata": {},
   "outputs": [],
   "source": [
    "#!pip install clean-text --user \n",
    "import re\n",
    "import string\n",
    "import nltk\n",
    "from nltk.tokenize import TweetTokenizer\n",
    "import emoji\n",
    "\n",
    "#nltk.download('punkt')\n",
    "\n",
    "def delete_extra_spaces(txt):\n",
    "    txt = re.sub(' +', ' ', txt)\n",
    "    return txt\n",
    "\n",
    "def delete_punct(txt):\n",
    "    #txt = re.sub(\"[^-9A-Za-z ]\", \"\" , txt)\n",
    "    txt = \"\".join([i for i in txt if i not in string.punctuation])\n",
    "    #txt = txt.translate(str.maketrans('', '', string.punctuation))\n",
    "    #txt = re.sub(r'[^\\w\\s]', '', txt)\n",
    "    #txt = ''.join(filter(lambda x: x.isalpha() or x.isdigit() or x.isspace(), txt))\n",
    "    return txt\n",
    "\n",
    "def set_lower_case(txt):\n",
    "    txt = \"\".join([i.lower() for i in txt if i not in string.punctuation])\n",
    "    return txt\n",
    "\n",
    "def tokenizing_nltk(txt):\n",
    "    if not txt:\n",
    "        print('Test, cellules vides')\n",
    "        text = ''\n",
    "    txt = nltk.tokenize.word_tokenize(txt)\n",
    "    tweet = TweetTokenizer()\n",
    "    #tweet.tokenize(txt)    \n",
    "    return txt\n",
    "\n",
    "\n",
    "df[\"Content\"] = df[\"Content\"].apply(delete_extra_spaces)\n",
    "df[\"Content\"] = df[\"Content\"].apply(delete_punct)\n",
    "df[\"Content\"] = df[\"Content\"].apply(set_lower_case)\n",
    "#df[\"Content\"] = df[\"Content\"].apply(lambda s: ' '.join(filter(lambda c: c.isalpha(), s)))\n",
    "df['Content'] = df['Content'].str.replace('[^\\w\\s#@/:%.,_-]', ' ', flags=re.UNICODE)\n",
    "df[\"Content\"].dropna(inplace=True)\n",
    "\n",
    "df[\"Content\"] = df[\"Content\"].apply(tokenizing_nltk)\n",
    "\n",
    "#df[\"Content\"] = df[\"Content\"].apply(lambda s: emoji.replace_emoji(s, ' '))\n",
    "\n",
    "df[\"Content\"]"
   ]
  },
  {
   "cell_type": "code",
   "execution_count": null,
   "metadata": {},
   "outputs": [],
   "source": [
    "def get_all_words():\n",
    "    tmp=[]\n",
    "    for tweet in df[\"Content\"]:\n",
    "        for txt in tweet:\n",
    "            tmp.append(txt)\n",
    "         \n",
    "    return tmp\n",
    "\n",
    "\n",
    "\n",
    "\n",
    "def tokenizing_nltkplus(txt):\n",
    "    if not txt:\n",
    "        print('The text to be tokenized is a None type. Defaulting to blank string.')\n",
    "        text = ''\n",
    "    #txt = nltk.tokenize.word_tokenize(txt)\n",
    "    tweet = TweetTokenizer()\n",
    "    tweet.tokenize(txt)    \n",
    "    return txt\n",
    "\n",
    "stringwords = get_all_words()\n",
    "\n",
    "def get_refactored_words():\n",
    "    tab = []\n",
    "    for ele in stringwords:\n",
    "        tokenizing_nltkplus(ele)\n",
    "        \n",
    "        tab.append(ele)\n",
    "    return tab\n",
    "\n",
    "\n",
    "clap = get_refactored_words()\n",
    "\n",
    "clap"
   ]
  },
  {
   "cell_type": "markdown",
   "metadata": {},
   "source": [
    "### WORK ON STOPWORDS"
   ]
  },
  {
   "cell_type": "code",
   "execution_count": null,
   "metadata": {},
   "outputs": [],
   "source": [
    "nltk.download('stopwords')\n",
    "stopwords = nltk.corpus.stopwords.words('french')"
   ]
  },
  {
   "cell_type": "code",
   "execution_count": null,
   "metadata": {},
   "outputs": [],
   "source": [
    "dfst = pd.read_excel('stopwords-fr.xlsx', encoding='utf-8')\n",
    "\n",
    "def get_all_stopwords():\n",
    "    tb=[]\n",
    "    for stp in dfst[\"stopwords-fr\"]:\n",
    "        tb.append(stp)\n",
    "        \n",
    "    return tb\n",
    "\n",
    "stopwords_fr = get_all_stopwords()"
   ]
  },
  {
   "cell_type": "code",
   "execution_count": null,
   "metadata": {},
   "outputs": [],
   "source": [
    "stopwords_all = nltk.corpus.stopwords.words('english') + stopwords_fr\n",
    "#text_retestponc = \" \".join([i for i in get_refactored_words() if i not in string.punctuation])\n",
    "text_retestponc = \" \".join([i for i in get_refactored_words()])\n",
    "#text_without_digits = ''.join((x for x in text_retestponc if not x.isdigit()))\n",
    "#print(text_retestponc)\n"
   ]
  },
  {
   "cell_type": "code",
   "execution_count": null,
   "metadata": {},
   "outputs": [],
   "source": [
    "mots_tokens = nltk.tokenize.word_tokenize(text_retestponc)\n",
    "print(mots_tokens)\n"
   ]
  },
  {
   "cell_type": "code",
   "execution_count": null,
   "metadata": {},
   "outputs": [],
   "source": [
    "mots_without_stopwords = [i for i in mots_tokens if i not in stopwords_all]\n",
    "\n",
    "print(mots_without_stopwords)"
   ]
  },
  {
   "cell_type": "code",
   "execution_count": null,
   "metadata": {},
   "outputs": [],
   "source": [
    "ss = nltk.SnowballStemmer(language='french')\n",
    "mt =  [ss.stem(mot) for mot in mots_without_stopwords]\n",
    "print(mt)"
   ]
  },
  {
   "cell_type": "code",
   "execution_count": null,
   "metadata": {},
   "outputs": [],
   "source": [
    "nltk.download('wordnet')\n",
    "motlemma = nltk.WordNetLemmatizer()\n",
    "motlemma = [motlemma.lemmatize(mot) for mot in mots_without_stopwords]\n",
    "print(motlemma)"
   ]
  },
  {
   "cell_type": "code",
   "execution_count": null,
   "metadata": {
    "scrolled": true
   },
   "outputs": [],
   "source": [
    "from nltk.probability import FreqDist\n",
    "pd.set_option(\"max_rows\", 500)\n",
    "\n",
    "freq_dis = FreqDist(motlemma)\n",
    "freq = pd.DataFrame(list(freq_dis.items()), columns=['mots', 'fréquence d\\'apparition'])\n",
    "\n",
    "freq['fréquence d\\'apparition'] = pd.to_numeric(freq['fréquence d\\'apparition'], errors='coerce')\n",
    "freq_new = freq.sort_values('fréquence d\\'apparition', ascending=False)\n",
    "freq_new.iloc[:350]\n",
    "\n",
    "freq_new.to_csv('20230425 Dictionnaire de mots - Transition Energetique.csv', encoding='utf-8', index=False)\n"
   ]
  },
  {
   "cell_type": "code",
   "execution_count": null,
   "metadata": {},
   "outputs": [],
   "source": []
  },
  {
   "cell_type": "code",
   "execution_count": null,
   "metadata": {},
   "outputs": [],
   "source": []
  },
  {
   "cell_type": "code",
   "execution_count": null,
   "metadata": {},
   "outputs": [],
   "source": []
  }
 ],
 "metadata": {
  "kernelspec": {
   "display_name": "Python 3 (ipykernel)",
   "language": "python",
   "name": "python3"
  },
  "language_info": {
   "codemirror_mode": {
    "name": "ipython",
    "version": 3
   },
   "file_extension": ".py",
   "mimetype": "text/x-python",
   "name": "python",
   "nbconvert_exporter": "python",
   "pygments_lexer": "ipython3",
   "version": "3.9.13"
  }
 },
 "nbformat": 4,
 "nbformat_minor": 2
}
